{
  "cells": [
    {
      "cell_type": "markdown",
      "metadata": {
        "id": "9BFIB8K235WF"
      },
      "source": [
        "# Práctica 3 - Minería de Datos\n",
        "## Datos Turismo\n",
        "### Carla Piñol Galera, Aurora Larrosa Navarro, Ana Isabel Navarro Cortijo"
      ]
    },
    {
      "cell_type": "markdown",
      "metadata": {
        "id": "kubfpJSe9F4W"
      },
      "source": [
        "En este notebook se realiza el análisis exploratorio de los datos proporcionados para llevar a cabo este trabajo. Se estudia la estructura de cada uno de ellos, las variables explicativas que los conforman y la información que se puede obtener a partir de ellos.\n"
      ]
    },
    {
      "cell_type": "markdown",
      "metadata": {
        "id": "sn7UBdY2duY8"
      },
      "source": [
        "## Importar Librerías\n",
        "En primer lugar se importan las librerías necesarias y se copia el directorio de trabajo de github en el que se encuentran los conjuntos de datos y las funciones auxiliares."
      ]
    },
    {
      "cell_type": "code",
      "execution_count": null,
      "metadata": {
        "id": "r3dz5aXRZ7FD"
      },
      "outputs": [],
      "source": [
        "import pandas as pd\n",
        "import numpy as np\n",
        "import matplotlib.pyplot as plt\n",
        "import plotly.express as px\n",
        "import geopandas as gpd\n",
        "import plotly.graph_objects as go\n",
        "\n",
        "!git --version\n",
        "!git clone https://github.com/carlapinol/Mineria-de-datos.git\n",
        "%cd Mineria-de-datos\n",
        "\n",
        "from carga import cargar_datos\n",
        "from limpia import limpiar_datos\n",
        "from plotea import plotear_datos\n",
        "from spain import spain_heat_map"
      ]
    },
    {
      "cell_type": "markdown",
      "metadata": {
        "id": "APvNVdB-d2zt"
      },
      "source": [
        "## Cargar los Datos\n",
        "Utilizamos la función `cargar_datos` creada, para cargar los datasets proporcionados y almacenarlos en dataframes.\n",
        "\n",
        "Hemos tomado otros datasets extra, para completar los datos proporcionados. Porcedemos a analizar cada dataset por separado."
      ]
    },
    {
      "cell_type": "code",
      "execution_count": null,
      "metadata": {
        "id": "FcPzk7BpeONX"
      },
      "outputs": [],
      "source": [
        "# Cargar los datasets\n",
        "dataframes = cargar_datos('data')"
      ]
    },
    {
      "cell_type": "markdown",
      "metadata": {
        "id": "istGG4dobwGH"
      },
      "source": [
        "### Distribución porcentual de los viajeros residentes por provincias y comunidades y ciudades autónomas de procedencia (2022)\n",
        "\n",
        "**Columnas**\n",
        "- Comunidades y ciudades autónomas de destino: CA de procedencia\n",
        "- Comunidades y ciudades autónomas de procedencia: CA de destino\n",
        "- Total: Porcentaje de población por provincia de destino"
      ]
    },
    {
      "cell_type": "code",
      "execution_count": null,
      "metadata": {
        "id": "2BbwFAbDWpbp"
      },
      "outputs": [],
      "source": [
        "url = \"https://www.ine.es/jaxi/files/_px/csv_bdsc/tpx/Servicios_3061/Hosteleria_5881/EOH_2022_9924/01nad04.csv\"\n",
        "df1 = pd.read_csv(url, sep=\";\")\n",
        "df1"
      ]
    },
    {
      "cell_type": "markdown",
      "metadata": {
        "id": "BLGUmmqT_5BY"
      },
      "source": [
        "Filtramos el dataset y nos quedamos con las columnas que nos interesan, ya que ['Destino'] y ['Procedencia'] no aportan información."
      ]
    },
    {
      "cell_type": "code",
      "execution_count": null,
      "metadata": {
        "id": "raWSSCeJogCq"
      },
      "outputs": [],
      "source": [
        "df_new1 = limpiar_datos(df1, destiny='Valencia').iloc[:, -2:]\n",
        "\n",
        "print(\"Total: % por CA de procedencia\\n\")\n",
        "df_new1"
      ]
    },
    {
      "cell_type": "markdown",
      "metadata": {
        "id": "BnywMpuSAhuu"
      },
      "source": [
        "Hacemos una representación para ver la distribución procentual de viajeros que han venido a la Comunidad Valenciana durante el año 2022 según su comunidad de procedencia.\n",
        "\n"
      ]
    },
    {
      "cell_type": "code",
      "execution_count": null,
      "metadata": {
        "id": "BsPWe2_M_K2w"
      },
      "outputs": [],
      "source": [
        "lista_total = df_new1['Total'].str.replace(',', '.').astype(float).tolist()[1:]\n",
        "lista_total[-2]=lista_total[-2]+lista_total[-1]\n",
        "lista_total.pop()\n",
        "\n",
        "path = 'spain'\n",
        "title = \"Mapa porcentaje de viajeros según CA de procedencia\"\n",
        "spain_heat_map(lista_total, path, \"bluyl\",title, plot_type=\"plotly\")"
      ]
    },
    {
      "cell_type": "markdown",
      "metadata": {
        "id": "EeJuv5wQBe_s"
      },
      "source": [
        "En el año 2022, la distribución porcentual de los viajeros que visitaron la Comunidad Valenciana según su comunidad de procedencia revela varias tendencias interesantes. La mayor proporción de visitantes provino de la propia Comunidad Valenciana, representando el 32.47% del total. Este dato sugiere una fuerte tendencia de turismo interno, donde los residentes de la Comunidad Valenciana eligen viajar dentro de su propia región.\n",
        "\n",
        "La Comunidad de Madrid se destaca como la segunda mayor fuente de turistas con un 24.32%, lo que refleja la importancia de la capital y su área metropolitana como origen de viajeros hacia la Comunidad Valenciana. Cataluña también figura significativamente con un 9.79%, seguido de Andalucía con un 6.85%, lo que indica una considerable afluencia de turistas desde estas regiones.\n",
        "\n",
        "Otras comunidades como Castilla - La Mancha (6.07%) y Murcia (3.74%) también contribuyen de manera notable al flujo turístico hacia la Comunidad Valenciana. Sin embargo, hay comunidades con una participación menor, como Asturias (0.99%), Baleares (1.15%), Canarias (0.61%), y La Rioja (0.58%). Las comunidades con la menor proporción de turistas son Ceuta (0.11%) y Melilla (0.03%).\n",
        "\n",
        "Este análisis muestra que la Comunidad Valenciana no solo atrae a turistas de otras partes de España, sino que también mantiene un robusto turismo local. La alta proporción de visitantes de Madrid y Cataluña subraya la conectividad y el atractivo de la Comunidad Valenciana para estas regiones. Por otro lado, la menor afluencia de ciertas comunidades podría indicar oportunidades para estrategias de promoción turística más específicas en esas áreas."
      ]
    },
    {
      "cell_type": "markdown",
      "metadata": {
        "id": "FAJrhTc8cGMA"
      },
      "source": [
        "### Estancia media de los viajeros por provincias, residencia y meses\n",
        "\n",
        "**Columnas**\n",
        "\n",
        "- Povincia: Provincias de destino\n",
        "- Residencia: Residencia (extranjeros o no)\n",
        "- Meses: Mes\n",
        "- Total: Estancia media en días"
      ]
    },
    {
      "cell_type": "code",
      "execution_count": null,
      "metadata": {
        "id": "P0ekaSN0cNqS"
      },
      "outputs": [],
      "source": [
        "dataframes['df2']"
      ]
    },
    {
      "cell_type": "markdown",
      "metadata": {
        "id": "vDtegHMJDuUs"
      },
      "source": [
        "Filtramos los datos para la Comunidad Valenciana seleccionando las provincias que la forman: Alicante, Valencia y Castellón"
      ]
    },
    {
      "cell_type": "code",
      "execution_count": null,
      "metadata": {
        "id": "-hz4H3LSTU_S"
      },
      "outputs": [],
      "source": [
        "# Lo que nos interesa\n",
        "df_new2 = pd.concat([limpiar_datos(dataframes['df2'], destiny = 'Alicante'),\n",
        "                    limpiar_datos(dataframes['df2'], destiny = 'Valencia'),\n",
        "                    limpiar_datos(dataframes['df2'], destiny = 'Castellón')])\n",
        "\n",
        "print(\"Total: dias de estancia medios por mes\\n\")\n",
        "df_new2"
      ]
    },
    {
      "cell_type": "markdown",
      "metadata": {
        "id": "SRRupWyTD8gK"
      },
      "source": [
        "Una vez tenemos lo que nos interesa se analizan estos datos en función de si los viajeros residen en España, son extranjeros y el total."
      ]
    },
    {
      "cell_type": "code",
      "execution_count": null,
      "metadata": {
        "id": "kE2xrCzjC2Xb"
      },
      "outputs": [],
      "source": [
        "# Residentes\n",
        "R = df_new2[(df_new2[\"Destino\"]==\"Alicante/Alacant\")&(df_new2['Origen']=='Residentes en España')][['Meses', 'Total']]\n",
        "R_t = R['Total'].str.replace(',', '.').astype(float).to_list()[1:]\n",
        "Mes = R['Meses'].to_list()[1:]\n",
        "# No residentes\n",
        "NR = df_new2[(df_new2[\"Destino\"]==\"Alicante/Alacant\")&(df_new2['Origen']=='No residentes en España')][['Meses', 'Total']]\n",
        "NR_t = NR['Total'].str.replace(',', '.').astype(float).to_list()[1:]\n",
        "# Total\n",
        "T = df_new2[(df_new2[\"Destino\"]==\"Alicante/Alacant\")&(df_new2['Origen']=='Total')][['Meses', 'Total']]\n",
        "T_t = T['Total'].str.replace(',', '.').astype(float).to_list()[1:]"
      ]
    },
    {
      "cell_type": "code",
      "execution_count": null,
      "metadata": {
        "id": "Wf2Gr6geETTz"
      },
      "outputs": [],
      "source": [
        "# Crear el gráfico de líneas\n",
        "fig = go.Figure()\n",
        "\n",
        "fig.add_trace(go.Scatter(\n",
        "    x=Mes,\n",
        "    y=R_t,\n",
        "    mode='lines+markers',\n",
        "    name='Residentes en España'\n",
        "))\n",
        "\n",
        "fig.add_trace(go.Scatter(\n",
        "    x=Mes,\n",
        "    y=NR_t,\n",
        "    mode='lines+markers',\n",
        "    name='No residentes en España'\n",
        "))\n",
        "\n",
        "fig.add_trace(go.Scatter(\n",
        "    x=Mes,\n",
        "    y=T_t,\n",
        "    mode='lines+markers',\n",
        "    name='Total'\n",
        "))\n",
        "\n",
        "# Actualizar el diseño del gráfico\n",
        "fig.update_layout(\n",
        "    title='Estancia Media de los Viajeros por Origen en Alicante',\n",
        "    xaxis_title='Mes',\n",
        "    yaxis_title='Estancia Media',\n",
        "    width=1000,\n",
        "    height=600\n",
        ")\n",
        "\n",
        "# Mostrar el gráfico\n",
        "fig.show()"
      ]
    },
    {
      "cell_type": "markdown",
      "metadata": {
        "id": "BIjru_dKFaUY"
      },
      "source": [
        "La duración media de los viajes a la Comunidad Valenciana en 2022 presenta diferencias notables entre los residentes en España y los no residentes.\n",
        "\n",
        "Para los residentes en España, la duración media de sus viajes varía a lo largo del año. Los meses con la duración más corta son enero y febrero, con una media de 2.27 y 2.15 días respectivamente. A medida que avanza el año, la duración aumenta, alcanzando su pico en agosto con 3.79 días. Luego disminuye ligeramente en los meses siguientes, cerrando el año con una media de 3.00 días en diciembre.\n",
        "\n",
        "Por otro lado, los no residentes presentan una duración media de viajes considerablemente más alta durante todo el año. En enero, la duración media es de 3.98 días y se mantiene relativamente constante con ligeras variaciones. El punto más alto se observa en agosto, con una duración media de 4.76 días, reflejando un aumento en el tiempo de estancia durante el verano. Diciembre cierra con una duración media de 4.40 días, más alta que la de cualquier mes de los residentes.\n",
        "\n",
        "Al considerar el total de los viajes, que incluye tanto a residentes como a no residentes, se observa una media que se sitúa entre los valores de ambos grupos. En enero, la duración media total es de 2.95 días y sigue un patrón similar al de los residentes, con un aumento gradual a lo largo del año, alcanzando un máximo de 4.17 días en agosto y disminuyendo a 3.52 días en diciembre.\n",
        "\n",
        "Este análisis muestra que los no residentes tienden a pasar más tiempo en la Comunidad Valenciana en comparación con los residentes, especialmente durante los meses de verano. Estos datos pueden ser útiles para planificar estrategias de turismo y servicios enfocados en maximizar la estancia de los visitantes a lo largo del año."
      ]
    },
    {
      "cell_type": "markdown",
      "metadata": {
        "id": "PaoETXQldQmA"
      },
      "source": [
        "### Personas viajeras por edad, según destino y duración del viaje\n",
        "**Columnas**\n",
        "- Edad: Rango de edad\n",
        "- Duración: Duración de la estancia\n",
        "- Destino: Fuera de España, dentro de españa o ambas (inrtersección vacía)\n",
        "- Tipo de dato: % sobre personas de la categoria (sobre el TOTAL de España, viajen o no), % sobre el total de viajeros (viajeros)\n",
        "- Total: Valor del tipo de dato"
      ]
    },
    {
      "cell_type": "code",
      "execution_count": null,
      "metadata": {
        "id": "tIKilJpycluh"
      },
      "outputs": [],
      "source": [
        "dataframes['df3']"
      ]
    },
    {
      "cell_type": "markdown",
      "metadata": {
        "id": "GTn-EZHLGEqe"
      },
      "source": [
        "En este caso se coge el año de 2019 porque para los últimos años falta información."
      ]
    },
    {
      "cell_type": "code",
      "execution_count": null,
      "metadata": {
        "id": "UsGuHGrXCnu2"
      },
      "outputs": [],
      "source": [
        "df_new3 = limpiar_datos(dataframes['df3'], year = 2019)\n",
        "\n",
        "df_new3"
      ]
    },
    {
      "cell_type": "markdown",
      "metadata": {
        "id": "o8iB3nsiGdiH"
      },
      "source": [
        "Porcentaje para cada rango de edad sobre **todos los viajeros**."
      ]
    },
    {
      "cell_type": "code",
      "execution_count": null,
      "metadata": {
        "id": "cKJUACHQYSR-"
      },
      "outputs": [],
      "source": [
        "tot_ed_tot = df_new3[(df_new3['Duración']=='Total')&(df_new3['Destino']=='Total')&\n",
        "                     (df_new3['Tipo de dato']=='Porcentaje sobre el total de viajeros ')][['Edad',\"Total\"]]\n",
        "\n",
        "tot_ed_tot"
      ]
    },
    {
      "cell_type": "code",
      "execution_count": null,
      "metadata": {
        "id": "LCh8omHJnrwu"
      },
      "outputs": [],
      "source": [
        "por_ed_tot = tot_ed_tot['Total'].str.replace(',', '.').astype(float).to_list()\n",
        "por_ed_tot = [val / por_ed_tot[0] * 100 for val in por_ed_tot[1:]]\n",
        "etiquetas = ['15 a 24', '25 a 34', '35 a 44', '45 a 54', '55 a 64', '65 y más']\n",
        "\n",
        "plotear_datos(por_ed_tot, x=etiquetas, y=por_ed_tot, title='Viajeros por Edad', xlabel=None, ylabel=None, chart_type='pie')"
      ]
    },
    {
      "cell_type": "markdown",
      "metadata": {
        "id": "B5wd_4i-IAGl"
      },
      "source": [
        "Para el total de viajeros, el grupo de edad con mayor proporción es el de 35 a 44 años, representando un 20.39% del total. Le siguen los grupos de 45 a 54 años (19.3%) y de 15 a 24 años (15.51%). Los grupos de 55 a 64 años y los de 65 y más años tienen proporciones similares, con un 14.72% y 14.9% respectivamente."
      ]
    },
    {
      "cell_type": "markdown",
      "metadata": {
        "id": "t6SLw1jbG2_v"
      },
      "source": [
        "Porcentaje para cada rango de edad sobre los viajeros con **destino España**."
      ]
    },
    {
      "cell_type": "code",
      "execution_count": null,
      "metadata": {
        "id": "i8wfTwZbrfXX"
      },
      "outputs": [],
      "source": [
        "tot_ed_esp = df_new3[(df_new3['Duración']=='Total')&(df_new3['Destino']=='Solo España')&\n",
        "                     (df_new3['Tipo de dato']=='Porcentaje sobre el total de viajeros ')][['Edad',\"Total\"]]\n",
        "\n",
        "tot_ed_esp"
      ]
    },
    {
      "cell_type": "code",
      "source": [
        "por_ed_esp = tot_ed_esp['Total'].str.replace(',', '.').astype(float).to_list()\n",
        "por_ed_esp = [val / por_ed_esp[0] * 100 for val in por_ed_esp[1:]]\n",
        "\n",
        "plotear_datos(por_ed_esp, x=etiquetas, y=por_ed_esp, title='Viajeros a España por Edad', xlabel=None, ylabel=None, chart_type='pie')"
      ],
      "metadata": {
        "id": "KBkxp_bnqluP"
      },
      "execution_count": null,
      "outputs": []
    },
    {
      "cell_type": "markdown",
      "metadata": {
        "id": "H-MolTosIKDK"
      },
      "source": [
        "Cuando se analiza solo a los viajeros que se desplazan dentro de España, la proporción total es del 62.61%. El grupo de edad predominante sigue siendo el de 35 a 44 años con un 12.27%, seguido de cerca por los de 45 a 54 años con un 11.86%. Los viajeros de 65 y más años representan un 11.83%, mientras que los de 15 a 24 años y de 25 a 34 años tienen porcentajes menores, con un 8.99% y 8.12% respectivamente. Los de 55 a 64 años representan un 9.54%."
      ]
    },
    {
      "cell_type": "markdown",
      "metadata": {
        "id": "qcGnYg3EHKzf"
      },
      "source": [
        "Porcentaje para cada rango de edad sobre los viajeros con **destino extranjero**."
      ]
    },
    {
      "cell_type": "code",
      "execution_count": null,
      "metadata": {
        "id": "lTQViXfYrtXw"
      },
      "outputs": [],
      "source": [
        "tot_ed_ext = df_new3[(df_new3['Duración']=='Total')&(df_new3['Destino']=='Solo extranjero')&\n",
        "                     (df_new3['Tipo de dato']=='Porcentaje sobre el total de viajeros ')][['Edad',\"Total\"]]\n",
        "\n",
        "tot_ed_ext"
      ]
    },
    {
      "cell_type": "code",
      "source": [
        "por_ed_ext= tot_ed_ext['Total'].str.replace(',', '.').astype(float).to_list()\n",
        "por_ed_ext = [val / por_ed_ext[0] * 100 for val in por_ed_ext[1:]]\n",
        "\n",
        "plotear_datos(por_ed_ext, x=etiquetas, y=por_ed_ext, title='Viajeros al Extranjero por Edad', xlabel=None, ylabel=None, chart_type='pie')"
      ],
      "metadata": {
        "id": "AckpTKYlqt7_"
      },
      "execution_count": null,
      "outputs": []
    },
    {
      "cell_type": "markdown",
      "metadata": {
        "id": "CX-XnB3pIYtY"
      },
      "source": [
        "Para los viajeros que se desplazan al extranjero, el porcentaje total es de 8.23%. Dentro de este grupo, el rango de 45 a 54 años es el mayor con un 1.8%, seguido por el de 35 a 44 años con un 1.77%. Los jóvenes de 15 a 24 años tienen un 1.26%, y los de 25 a 34 años representan un 1.42%. Los viajeros de 55 a 64 años y los de 65 y más años tienen los porcentajes más bajos, con un 1.29% y 0.69% respectivamente."
      ]
    },
    {
      "cell_type": "markdown",
      "metadata": {
        "id": "gwtum1PgHPKh"
      },
      "source": [
        "Porcentaje para cada rango de edad sobre los viajeros con **destino España y extranjero**."
      ]
    },
    {
      "cell_type": "code",
      "execution_count": null,
      "metadata": {
        "id": "dysg7rYIr0UC"
      },
      "outputs": [],
      "source": [
        "tot_ed_amb = df_new3[(df_new3['Duración']=='Total')&(df_new3['Destino']=='España y extranjero')&\n",
        "                     (df_new3['Tipo de dato']=='Porcentaje sobre el total de viajeros ')][['Edad',\"Total\"]]\n",
        "\n",
        "tot_ed_amb"
      ]
    },
    {
      "cell_type": "code",
      "source": [
        "por_ed_amb= tot_ed_amb['Total'].str.replace(',', '.').astype(float).to_list()\n",
        "por_ed_amb = [val / por_ed_amb[0] * 100 for val in por_ed_amb[1:]]\n",
        "\n",
        "plotear_datos(por_ed_amb, x=etiquetas, y=por_ed_amb, title='Viajeros a España y al Extranjero por Edad', xlabel=None, ylabel=None, chart_type='pie')"
      ],
      "metadata": {
        "id": "RN79FN3Hq_TI"
      },
      "execution_count": null,
      "outputs": []
    },
    {
      "cell_type": "markdown",
      "metadata": {
        "id": "_DDeGWwmIe-Z"
      },
      "source": [
        "Finalmente, para los viajeros que tienen destinos tanto en España como en el extranjero, el porcentaje total es de 29.17%. Los mayores porcentajes en este grupo se encuentran en los rangos de 35 a 44 años (6.35%) y de 25 a 34 años (5.65%). Los de 45 a 54 años y de 15 a 24 años tienen proporciones similares, con un 5.64% y 5.26% respectivamente. Los viajeros de 55 a 64 años representan un 3.89%, mientras que los de 65 y más años tienen el porcentaje más bajo con un 2.38%.\n",
        "\n",
        "El análisis revela que los viajeros de mediana edad (35 a 54 años) constituyen la mayoría de los desplazamientos tanto nacionales como internacionales. Los jóvenes de 15 a 24 años y los adultos mayores de 55 años muestran una menor proporción de viajes, especialmente al extranjero. Este patrón puede ser útil para las agencias de turismo y las autoridades de planificación para diseñar estrategias y servicios específicos que atiendan a las necesidades y preferencias de cada grupo de edad."
      ]
    },
    {
      "cell_type": "markdown",
      "metadata": {
        "id": "SNsM_ynWhYJF"
      },
      "source": [
        "### Viajeros y pernoctaciones por comunidades autónomas y provincias\n",
        "\n",
        "**Columnas**\n",
        "- Totales Territoriales: 'Total Nacional' (No aporta información)\n",
        "- Comunidades y Ciudades Autónomas: CA de destino\n",
        "- Provincias: Provincia de destino\n",
        "- Viajeros y pernoctaciones: totales\n",
        "- Residencia Nivel 1: solo hacer caso a total nan\n",
        "- Residencia Nivel 2: si son extranjertos o españoles\n",
        "- Periodo: Meses y Año\n",
        "- Total: Valor de viajeros o pernoctaciones"
      ]
    },
    {
      "cell_type": "code",
      "execution_count": null,
      "metadata": {
        "id": "DvwZ07w8Gtzm"
      },
      "outputs": [],
      "source": [
        "dataframes['df4']"
      ]
    },
    {
      "cell_type": "markdown",
      "metadata": {
        "id": "pQuunvaqKSqS"
      },
      "source": [
        "Cambiamos el formato de los dato, se crean dos columnas ['Mes'] y ['Año'] a partir de ['Periodo']. Además, filtramos por Comunidad Valenciana y año 2022 para tener los datos más recientes."
      ]
    },
    {
      "cell_type": "code",
      "execution_count": null,
      "metadata": {
        "id": "KjtVaVuOOI0X"
      },
      "outputs": [],
      "source": [
        "df_new4 = pd.concat([limpiar_datos(dataframes['df4'], destiny='Valencia', year=2022),\n",
        "                     limpiar_datos(dataframes['df4'], destiny='Alicante', year=2022),\n",
        "                     limpiar_datos(dataframes['df4'], destiny='Castellón', year=2022)])\n",
        "df_new4"
      ]
    },
    {
      "cell_type": "markdown",
      "metadata": {
        "id": "vejCXlSheyH4"
      },
      "source": [
        "Veamos el **número de viajeros** por mes que vienen a Alicante dependiendo de su residencia."
      ]
    },
    {
      "cell_type": "code",
      "execution_count": null,
      "metadata": {
        "id": "FinT5KD9QrLY"
      },
      "outputs": [],
      "source": [
        "# Residentes\n",
        "Resi = limpiar_datos(df_new4, destiny='Alicante', origin='España')\n",
        "R_viaj = Resi[Resi['Viajeros y pernoctaciones']=='Viajero']\n",
        "R_viaj_t = R_viaj['Total'].str.replace('.', '').astype(float).to_list()\n",
        "Mes = R_viaj['Mes'].to_list()[::-1]\n",
        "\n",
        "# No residentes\n",
        "NResi = limpiar_datos(df_new4, destiny='Alicante', origin='Extranjero')\n",
        "NR_viaj = NResi[NResi['Viajeros y pernoctaciones']=='Viajero']\n",
        "NR_viaj_t = NR_viaj['Total'].str.replace('.', '').astype(float).to_list()\n",
        "\n",
        "# Total\n",
        "Tot = limpiar_datos(df_new4, destiny='Alicante', origin='Total')\n",
        "T_viaj = Tot[Tot['Viajeros y pernoctaciones']=='Viajero']\n",
        "T_viaj_t = T_viaj['Total'].str.replace('.', '').astype(float).to_list()"
      ]
    },
    {
      "cell_type": "code",
      "execution_count": null,
      "metadata": {
        "id": "AKolI5bsNiY-"
      },
      "outputs": [],
      "source": [
        "# Crear el gráfico de líneas\n",
        "fig = go.Figure()\n",
        "\n",
        "fig.add_trace(go.Scatter(\n",
        "    x=Mes,\n",
        "    y=R_viaj_t[::-1],\n",
        "    mode='lines+markers',\n",
        "    name='Residentes en España'\n",
        "))\n",
        "\n",
        "fig.add_trace(go.Scatter(\n",
        "    x=Mes,\n",
        "    y=NR_viaj_t[::-1],\n",
        "    mode='lines+markers',\n",
        "    name='No residentes en España'\n",
        "))\n",
        "\n",
        "fig.add_trace(go.Scatter(\n",
        "    x=Mes,\n",
        "    y=T_viaj_t[::-1],\n",
        "    mode='lines+markers',\n",
        "    name='Total'\n",
        "))\n",
        "\n",
        "# Actualizar el diseño del gráfico\n",
        "fig.update_layout(\n",
        "    title='Numero de Viajeros a Alicante',\n",
        "    xaxis_title='Mes',\n",
        "    yaxis_title='Número de Viajeros',\n",
        "    width=1000,\n",
        "    height=600\n",
        ")\n",
        "\n",
        "# Mostrar el gráfico\n",
        "fig.show()"
      ]
    },
    {
      "cell_type": "markdown",
      "metadata": {
        "id": "OUs0t-0QMH3W"
      },
      "source": [
        "El flujo de viajeros residentes en la Comunidad Valenciana tiene un incremento notable durante los meses de verano. Enero presenta el número más bajo de viajeros con 75,778, mientras que agosto muestra el pico más alto con 341,418 viajeros. Este aumento significativo en los meses de verano refleja la tendencia de los residentes a viajar más durante las vacaciones estivales. Otros meses con alto número de viajeros son julio (319,351) y septiembre (209,071), mientras que los meses de invierno y principios de año presentan cifras menores.\n",
        "\n",
        "Para los viajeros no residentes, el patrón es similar en términos de aumento durante los meses de verano, aunque con diferentes magnitudes. Agosto es el mes con mayor afluencia de no residentes, alcanzando los 219,568 viajeros. Enero tiene el menor número de viajeros no residentes con 49,765. Al igual que los residentes, los no residentes muestran un incremento durante los meses de primavera y verano, con julio (217,146) y septiembre (210,661) siendo meses destacados.\n",
        "\n",
        "Al considerar el total de viajeros, que incluye tanto a residentes como a no residentes, los meses de verano son nuevamente los más concurridos. Agosto se destaca con una afluencia total de 560,986 viajeros, seguido de julio con 536,497 y septiembre con 419,732. Enero presenta el menor número total de viajeros con 125,543. Estos datos indican que la Comunidad Valenciana es un destino altamente preferido durante el verano, atrayendo tanto a residentes como a no residentes.\n",
        "\n",
        "Este análisis revela una clara estacionalidad en los viajes a la Comunidad Valenciana, con una preferencia marcada por los meses de verano. Las políticas de promoción turística podrían aprovechar esta tendencia para maximizar la afluencia en otras temporadas del año, ofreciendo incentivos y actividades que atraigan a los viajeros durante los meses menos concurridos."
      ]
    },
    {
      "cell_type": "markdown",
      "metadata": {
        "id": "3QclY4V1evTN"
      },
      "source": [
        "Vemaos ahora el número de **pernoctaciones**."
      ]
    },
    {
      "cell_type": "code",
      "execution_count": null,
      "metadata": {
        "id": "tQjJvu3XUOWP"
      },
      "outputs": [],
      "source": [
        "# Residentes\n",
        "Resi = limpiar_datos(df_new4, destiny='Alicante', origin='Residentes en España')\n",
        "R_per = Resi[Resi['Viajeros y pernoctaciones']=='Pernoctaciones']\n",
        "R_per_t = R_per['Total'].str.replace('.', '').astype(float).to_list()\n",
        "Mes = R_per['Mes'].to_list()[::-1]\n",
        "# No residentes\n",
        "NResi = limpiar_datos(df_new4, destiny='Alicante', origin='Residentes en el Extranjero')\n",
        "NR_per = NResi[NResi['Viajeros y pernoctaciones']=='Pernoctaciones']\n",
        "NR_per_t = NR_per['Total'].str.replace('.', '').astype(float).to_list()\n",
        "# Total\n",
        "Tot = limpiar_datos(df_new4, destiny='Alicante', origin='Total')\n",
        "T_per = Tot[Tot['Viajeros y pernoctaciones']=='Pernoctaciones']\n",
        "T_per_t = T_per['Total'].str.replace('.', '').astype(float).to_list()"
      ]
    },
    {
      "cell_type": "code",
      "source": [
        "# Crear el gráfico de líneas\n",
        "fig = go.Figure()\n",
        "\n",
        "fig.add_trace(go.Scatter(\n",
        "    x=Mes,\n",
        "    y=R_per_t[::-1],\n",
        "    mode='lines+markers',\n",
        "    name='Residentes en España'\n",
        "))\n",
        "\n",
        "fig.add_trace(go.Scatter(\n",
        "    x=Mes,\n",
        "    y=NR_per_t[::-1],\n",
        "    mode='lines+markers',\n",
        "    name='No residentes en España'\n",
        "))\n",
        "\n",
        "fig.add_trace(go.Scatter(\n",
        "    x=Mes,\n",
        "    y=T_per_t[::-1],\n",
        "    mode='lines+markers',\n",
        "    name='Total'\n",
        "))\n",
        "\n",
        "# Actualizar el diseño del gráfico\n",
        "fig.update_layout(\n",
        "    title='Número de Pernoctaciones en Alicante',\n",
        "    xaxis_title='Mes',\n",
        "    yaxis_title='Número de Pernoctaciones',\n",
        "    width=1000,\n",
        "    height=600\n",
        ")\n",
        "\n",
        "# Mostrar el gráfico\n",
        "fig.show()"
      ],
      "metadata": {
        "id": "PzI7qSrssxP8"
      },
      "execution_count": null,
      "outputs": []
    },
    {
      "cell_type": "markdown",
      "metadata": {
        "id": "9XESkZL-NAPw"
      },
      "source": [
        "Las pernoctaciones de los residentes en la Comunidad Valenciana reflejan un patrón de aumento durante los meses de verano. Enero tiene el menor número de pernoctaciones con 171,987, mientras que agosto alcanza el pico con 1,292,954 pernoctaciones. Otros meses de alta actividad incluyen julio (1,119,077) y septiembre (726,002), mostrando una clara preferencia por las vacaciones de verano. Los meses de invierno y principios de año tienen cifras significativamente menores.\n",
        "\n",
        "Para los no residentes, el patrón es similar en términos de estacionalidad, aunque las cifras absolutas difieren. Agosto nuevamente es el mes con mayor número de pernoctaciones, con 1,045,358, seguido de cerca por septiembre (954,588) y julio (953,197). Enero presenta el menor número de pernoctaciones con 198,286. Los meses de primavera y verano también muestran un aumento significativo en las pernoctaciones.\n",
        "\n",
        "Al considerar el total de pernoctaciones, que incluye tanto a residentes como a no residentes, los meses de verano se destacan notablemente. Agosto tiene la mayor cantidad de pernoctaciones totales con 2,338,312, seguido por julio con 2,072,274 y septiembre con 1,680,590. Enero y febrero presentan las cifras más bajas, con 370,273 y 595,410 respectivamente.\n",
        "\n",
        "Este análisis muestra una clara estacionalidad en las pernoctaciones, con una concentración significativa durante los meses de verano. Tanto residentes como no residentes prefieren la Comunidad Valenciana como destino turístico principalmente en agosto, julio y septiembre. Las políticas de promoción turística podrían enfocarse en equilibrar esta distribución a lo largo del año, incentivando visitas durante las temporadas bajas con ofertas especiales y eventos atractivos para mantener un flujo constante de turistas durante todo el año."
      ]
    },
    {
      "cell_type": "markdown",
      "metadata": {
        "id": "CYfTWoBEkDSN"
      },
      "source": [
        "### Viajes, pernoctaciones y duración media por nivel de formación alcanzado de los viajeros\n",
        "\n",
        "**Columnas**\n",
        "- Nivel de formación: Nivel de formación\n",
        "- Concepto turístico: Viajes, pernoctaciones y duración media de los viajes\n",
        "- TIPO DE DATO:\n",
        "  - Valor absoluto - total\n",
        "  - Distribución porcentual - según el tipo de formación, en cada periodo\n",
        "  - Acumulado en lo que va de año (si T2, T1+T2)\n",
        "  - Distribución porcentual del acumulado (divide como el otro, T1 da igual que sin acuimular, el resto no)\n",
        "  - Variación anual, comparación con el año anterior:(año-año anterior)/(año anterior)\n",
        "  - Variación anual del acumulado en lo que va de año (como arriba)\n",
        "- Periodo en trimestres\n",
        "- Total: Valor del concepto turístico"
      ]
    },
    {
      "cell_type": "code",
      "execution_count": null,
      "metadata": {
        "id": "JhsRSiytUiV8"
      },
      "outputs": [],
      "source": [
        "dataframes['df5']"
      ]
    },
    {
      "cell_type": "markdown",
      "metadata": {
        "id": "bHFI0xjLOlUZ"
      },
      "source": [
        "Creamos la columna ['Año'] a partir del periodo y la columna ['Trimestre']. De nuevo nos quedamos con el año 2022 y todas las columnas excepto la de ['Periodo]."
      ]
    },
    {
      "cell_type": "code",
      "execution_count": null,
      "metadata": {
        "id": "nfUdld46ViXW"
      },
      "outputs": [],
      "source": [
        "df_new5 = limpiar_datos(dataframes['df5'], year=2022)\n",
        "df_new5"
      ]
    },
    {
      "cell_type": "markdown",
      "metadata": {
        "id": "YMBCr8tMmPE_"
      },
      "source": [
        "Veamos el número de **viajes** que hacen según el nivel de formación en cada temporada."
      ]
    },
    {
      "cell_type": "code",
      "execution_count": null,
      "metadata": {
        "id": "BrQIYOlRehpz"
      },
      "outputs": [],
      "source": [
        "df_form_viaj = df_new5[(df_new5['Concepto turístico']=='Viajes')&(df_new5[\"Tipo de dato\"]==\"Valor absoluto\")][['Nivel de formación', 'Trimestre', 'Total']]\n",
        "df_form_viaj['Total'] = df_form_viaj['Total'].str.replace('.', '').astype(float)\n"
      ]
    },
    {
      "cell_type": "code",
      "execution_count": null,
      "metadata": {
        "id": "5FXV8LZmgc5f"
      },
      "outputs": [],
      "source": [
        "pivot_df = df_form_viaj.pivot(index='Nivel de formación', columns='Trimestre', values='Total')\n",
        "pivot_df"
      ]
    },
    {
      "cell_type": "code",
      "execution_count": null,
      "metadata": {
        "id": "p6FTUE5bh8yy"
      },
      "outputs": [],
      "source": [
        "# Crear el heatmap\n",
        "fig = go.Figure(data=go.Heatmap(\n",
        "    z=pivot_df.values,\n",
        "    x=pivot_df.columns,\n",
        "    y=pivot_df.index,\n",
        "    colorscale='Viridis',\n",
        "    text=pivot_df.values,  # Añadir los valores para anotaciones\n",
        "    texttemplate=\"%{text}\",  # Formato de las anotaciones\n",
        "    hoverinfo=\"z\"  # Información a mostrar al pasar el ratón\n",
        "))\n",
        "\n",
        "# Añadir título y etiquetas a los ejes\n",
        "fig.update_layout(\n",
        "    title='Número de Viajes por Formación y Temporada',\n",
        "    xaxis_title='Temporada',\n",
        "    yaxis_title='Formación'\n",
        ")\n",
        "\n",
        "# Mostrar el gráfico\n",
        "fig.show()"
      ]
    },
    {
      "cell_type": "markdown",
      "metadata": {
        "id": "dQAQ66aZPwwX"
      },
      "source": [
        "Los viajes realizados por personas con educación primaria e inferior muestran un aumento en la temporada T3 (julio, agosto y septiembre) con 3,405,252 viajes, siendo este el trimestre con mayor actividad. La temporada T1 (enero, febrero y marzo) tiene el menor número de viajes con 1,624,337.\n",
        "\n",
        "Para aquellos con educación secundaria de primera etapa, la temporada T3 también es la más activa con 9,302,333 viajes. La temporada T1 tiene el menor número con 5,903,426 viajes, pero aún así, representa un volumen considerable de desplazamientos.\n",
        "\n",
        "Las personas con educación secundaria de segunda etapa realizan la mayoría de sus viajes en la temporada T3, alcanzando los 11,631,909. El trimestre menos activo es T1 con 5,941,816 viajes.\n",
        "\n",
        "Los individuos con educación superior son los más viajeros en general, con un notable incremento en la temporada T3 que registra 23,867,824 viajes. La temporada T1 muestra el menor número de viajes con 14,350,162.\n",
        "\n",
        "En conjunto, la tendencia general sigue mostrando que la temporada T3 es la más activa con un total de 48,207,318 viajes, mientras que T1 es la menos activa con 27,819,742 viajes.\n",
        "\n",
        "Este análisis muestra una clara preferencia por viajar durante la temporada T3, que coincide con los meses de verano en el hemisferio norte, cuando muchas personas toman vacaciones. Las diferencias en los patrones de viaje según el nivel de formación pueden deberse a factores como disponibilidad de tiempo libre, ingresos y preferencias personales. Estos datos pueden ser útiles para planificar servicios y campañas de turismo que se adapten a las necesidades de cada grupo educativo durante diferentes épocas del año."
      ]
    },
    {
      "cell_type": "markdown",
      "metadata": {
        "id": "NZDSB0aDmRFz"
      },
      "source": [
        "Veamos ahora la **duración media** del viaje según el nivel de formación para cada temporada."
      ]
    },
    {
      "cell_type": "code",
      "execution_count": null,
      "metadata": {
        "id": "ZeQD6Q9CXE1V"
      },
      "outputs": [],
      "source": [
        "df_form_dura = df_new5[(df_new5['Concepto turístico']=='Duración media de los viajes')&(df_new5[\"Tipo de dato\"]==\"Valor absoluto\")][['Nivel de formación', 'Trimestre', 'Total']]\n",
        "df_form_dura['Total'] = df_form_dura['Total'].str.replace(',', '.').astype(float)"
      ]
    },
    {
      "cell_type": "code",
      "execution_count": null,
      "metadata": {
        "id": "cv5aikUZiiaS"
      },
      "outputs": [],
      "source": [
        "pivot_df = df_form_dura.pivot(index='Nivel de formación', columns='Trimestre', values='Total')\n",
        "pivot_df"
      ]
    },
    {
      "cell_type": "code",
      "execution_count": null,
      "metadata": {
        "id": "ABLzqZZ5ik8N"
      },
      "outputs": [],
      "source": [
        "# Crear el heatmap\n",
        "fig = go.Figure(data=go.Heatmap(\n",
        "    z=pivot_df.values,\n",
        "    x=pivot_df.columns,\n",
        "    y=pivot_df.index,\n",
        "    colorscale='Viridis',\n",
        "    text=pivot_df.values,  # Añadir los valores para anotaciones\n",
        "    texttemplate=\"%{text}\",  # Formato de las anotaciones\n",
        "    hoverinfo=\"z\"  # Información a mostrar al pasar el ratón\n",
        "))\n",
        "\n",
        "# Añadir título y etiquetas a los ejes\n",
        "fig.update_layout(\n",
        "    title='Número de Viajes por Formación y Temporada',\n",
        "    xaxis_title='Temporada',\n",
        "    yaxis_title='Formación'\n",
        ")\n",
        "\n",
        "# Mostrar el gráfico\n",
        "fig.show()"
      ]
    },
    {
      "cell_type": "markdown",
      "metadata": {
        "id": "bxas_jKdQ5J3"
      },
      "source": [
        "Las personas con educación primaria e inferior tienen la duración media de viaje más larga en la temporada T3 (julio, agosto y septiembre), con 8.91 días. Las demás temporadas tienen duraciones medias menores, siendo T1 y T4 las más cortas con aproximadamente 4.27 y 4.23 días respectivamente.\n",
        "\n",
        "Para aquellos con educación secundaria de primera etapa, la duración media más larga también se encuentra en T3, con 6.47 días. Las duraciones en T1 y T4 son más cortas, alrededor de 3.41 y 3.65 días respectivamente, con una ligera variación en T2 a 3.63 días.\n",
        "\n",
        "Las personas con educación secundaria de segunda etapa presentan una duración media de 6.29 días en T3. Las otras temporadas tienen duraciones similares, alrededor de 3.10 a 3.47 días.\n",
        "\n",
        "Los individuos con educación superior viajan por una media de 5.99 días en T3, mientras que las duraciones en T1, T2 y T4 son bastante consistentes, alrededor de 3.10 a 3.29 días.\n",
        "\n",
        "En general, la duración media de los viajes es más larga en la temporada T3, con 6.36 días. Las otras temporadas presentan duraciones más cortas y bastante similares, con T1 a 3.24 días, T2 a 3.47 días y T4 a 3.45 días.\n",
        "\n",
        "Este análisis revela que, independientemente del nivel de formación, la duración media de los viajes es más prolongada en la temporada T3, que coincide con las vacaciones de verano en el hemisferio norte. Las políticas de turismo pueden aprovechar este dato para diseñar paquetes y ofertas que incentiven viajes más largos durante otras temporadas, equilibrando así la distribución de turistas a lo largo del año."
      ]
    },
    {
      "cell_type": "markdown",
      "metadata": {
        "id": "e2A4-sxEozF2"
      },
      "source": [
        "### Viajes, pernoctaciones, duración media y gasto por comunidad autónoma de residencia de los viajeros\n",
        "\n",
        "**Columnas**\n",
        "- Comunidad autónoma de residencia: CA de residencia\n",
        "- Concepto turístico: Viajes, Duración media de los viajes, Pernoctaciones, Gasto total, Gasto medio por persona, Gasto medio diario por persona\n",
        "- TIPO DE DATO:\n",
        "  - Valor absoluto - total\n",
        "  - Distribución porcentual\n",
        "  - Acumulado en lo que va de año\n",
        "  - Distribución porcentual del acumulado\n",
        "  - Variación anual\n",
        "  - Variación anual del acumulado en lo que va de año\n",
        "- Periodo: Periodo en trimestres y Año\n",
        "- Total: Valor del concepto turístico"
      ]
    },
    {
      "cell_type": "code",
      "execution_count": null,
      "metadata": {
        "id": "qVjeHXxnaH_1"
      },
      "outputs": [],
      "source": [
        "dataframes['df6']"
      ]
    },
    {
      "cell_type": "markdown",
      "metadata": {
        "id": "bKvOnYdUSTup"
      },
      "source": [
        "Nos quedamos con el año 2022 y los valores absolutos."
      ]
    },
    {
      "cell_type": "code",
      "execution_count": null,
      "metadata": {
        "id": "m93KBkbcadIr"
      },
      "outputs": [],
      "source": [
        "df_new6 = limpiar_datos(dataframes['df6'], year=2022)\n",
        "df_new6"
      ]
    },
    {
      "cell_type": "markdown",
      "metadata": {
        "id": "ZcOLHcYZn2U7"
      },
      "source": [
        "Analizamos el gasto medio diario por persona según su CA de residencia para cada trimestre."
      ]
    },
    {
      "cell_type": "code",
      "execution_count": null,
      "metadata": {
        "id": "N8CTqdOlQeZH"
      },
      "outputs": [],
      "source": [
        "# T1\n",
        "T1_gasto = df_new6[(df_new6['Concepto turístico']=='Gasto medio diario por persona')&\n",
        "                   (df_new6['Trimestre']=='Trimestre 1')&(df_new6[\"Tipo de dato\"]==\"Valor absoluto\")][['Origen','Total']]\n",
        "T1_gasto_t = T1_gasto['Total'].str.replace('.', '').str.replace(',', '.').astype(float).to_list()\n",
        "T1_gasto_t[-2] = round((T1_gasto_t[-1]+T1_gasto_t[-2])/2,2)\n",
        "T1_gasto_t.pop()\n",
        "\n",
        "# T2\n",
        "T2_gasto = df_new6[(df_new6['Concepto turístico']=='Gasto medio diario por persona')&\n",
        "                   (df_new6['Trimestre']=='Trimestre 2')&(df_new6[\"Tipo de dato\"]==\"Valor absoluto\")][['Origen','Total']]\n",
        "T2_gasto_t = T2_gasto['Total'].str.replace('.', '').str.replace(',', '.').astype(float).to_list()\n",
        "T2_gasto_t[-2] = round((T2_gasto_t[-1]+T2_gasto_t[-2])/2,2)\n",
        "T2_gasto_t.pop()\n",
        "\n",
        "# T3\n",
        "T3_gasto = df_new6[(df_new6['Concepto turístico']=='Gasto medio diario por persona')&\n",
        "                   (df_new6['Trimestre']=='Trimestre 3')&(df_new6[\"Tipo de dato\"]==\"Valor absoluto\")][['Origen','Total']]\n",
        "T3_gasto_t = T3_gasto['Total'].str.replace('.', '').str.replace(',', '.').astype(float).to_list()\n",
        "T3_gasto_t[-2] = round((T3_gasto_t[-1]+T3_gasto_t[-2])/2,2)\n",
        "T3_gasto_t.pop()\n",
        "\n",
        "# T4\n",
        "T4_gasto = df_new6[(df_new6['Concepto turístico']=='Gasto medio diario por persona')&\n",
        "                   (df_new6['Trimestre']=='Trimestre 4')&(df_new6[\"Tipo de dato\"]==\"Valor absoluto\")][['Origen','Total']]\n",
        "T4_gasto_t = T4_gasto['Total'].str.replace('.', '').str.replace(',', '.').astype(float).to_list()\n",
        "T4_gasto_t[-2] = round((T4_gasto_t[-1]+T4_gasto_t[-2])/2,2)\n",
        "T4_gasto_t.pop()"
      ]
    },
    {
      "cell_type": "code",
      "execution_count": null,
      "metadata": {
        "id": "1bnajVV3blO2"
      },
      "outputs": [],
      "source": [
        "path = 'spain'\n",
        "title = \"Mapa gasto medio diario por persona en T1\"\n",
        "spain_heat_map(T1_gasto_t[1:], path, \"bluyl\", title, plot_type=\"plotly\")\n",
        "\n",
        "title = \"Mapa gasto medio diario por persona en T2\"\n",
        "spain_heat_map(T2_gasto_t[1:], path, \"bluyl\", title, plot_type=\"plotly\")\n",
        "\n",
        "title = \"Mapa gasto medio diario por persona en T3\"\n",
        "spain_heat_map(T3_gasto_t[1:], path, \"bluyl\", title, plot_type=\"plotly\")\n",
        "\n",
        "title = \"Mapa gasto medio diario por persona en T4\"\n",
        "spain_heat_map(T4_gasto_t[1:], path, \"bluyl\", title, plot_type=\"plotly\")"
      ]
    },
    {
      "cell_type": "markdown",
      "metadata": {
        "id": "A0BMt9ZqTX2I"
      },
      "source": [
        "En la temporada T1, el gasto medio más alto proviene de Canarias, con 87.94 euros diarios, seguido por el País Vasco con 80.16 euros y Murcia con 78.85 euros. La Rioja tiene el gasto medio más bajo con 56.72 euros, y la Comunitat Valenciana también se encuentra en el rango bajo con 60.83 euros.\n",
        "\n",
        "Durante la temporada T2, las Islas Baleares tienen el gasto medio más alto con 83.12 euros, seguido por Cataluña con 86.49 euros y la Comunidad de Madrid con 81.65 euros. El gasto medio más bajo se observa en Ceuta y Melilla con 66.81 euros.\n",
        "\n",
        "La temporada T3 muestra una disminución general en el gasto medio. Las Islas Baleares tienen el gasto medio más bajo con 47.97 euros, seguido por La Rioja con 47.95 euros y el País Vasco con 49.17 euros. Por otro lado, Canarias mantiene un gasto relativamente alto con 66.80 euros.\n",
        "\n",
        "En la temporada T4, el gasto medio más alto se registra nuevamente en Canarias con 103.68 euros, seguido por las Islas Baleares con 96.11 euros y Cataluña con 90.99 euros. El gasto medio más bajo se observa en Castilla-La Mancha con 65.70 euros.\n",
        "\n",
        "El análisis muestra que el gasto medio diario varía significativamente no solo entre las comunidades, sino también entre las distintas temporadas. Canarias y las Islas Baleares tienden a tener los gastos medios más altos en la mayoría de las temporadas, especialmente en T4. En contraste, La Rioja y la Comunitat Valenciana suelen tener gastos más bajos. Estos datos pueden ser útiles para la planificación de estrategias turísticas regionales, adaptando las ofertas y promociones según las temporadas y los hábitos de gasto de los viajeros de diferentes comunidades."
      ]
    },
    {
      "cell_type": "markdown",
      "metadata": {
        "id": "dLzpIkkmn7Yt"
      },
      "source": [
        "Analicemos ahora la duración media de los viajes según la comunidad de residendencia para cada trimestre."
      ]
    },
    {
      "cell_type": "code",
      "execution_count": null,
      "metadata": {
        "id": "29CGhtB5n6kb",
        "collapsed": true
      },
      "outputs": [],
      "source": [
        "# T1\n",
        "T1_dura = df_new6[(df_new6['Concepto turístico']=='Duración media de los viajes')&\n",
        "                  (df_new6['Trimestre']=='Trimestre 1')&(df_new6[\"Tipo de dato\"]==\"Valor absoluto\")][['Origen','Total']]\n",
        "T1_dura_t = T1_dura['Total'].str.replace('.', '').str.replace(',', '.').astype(float).to_list()\n",
        "T1_dura_t[-2] = (T1_dura_t[-1]+T1_dura_t[-2])/2\n",
        "T1_dura_t.pop()\n",
        "\n",
        "# T2\n",
        "T2_dura = df_new6[(df_new6['Concepto turístico']=='Duración media de los viajes')&\n",
        "                  (df_new6['Trimestre']=='Trimestre 2')&(df_new6[\"Tipo de dato\"]==\"Valor absoluto\")][['Origen','Total']]\n",
        "T2_dura_t = T2_dura['Total'].str.replace('.', '').str.replace(',', '.').astype(float).to_list()\n",
        "T2_dura_t[-2] = (T2_dura_t[-1]+T2_dura_t[-2])/2\n",
        "T2_dura_t.pop()\n",
        "\n",
        "# T3\n",
        "T3_dura = df_new6[(df_new6['Concepto turístico']=='Duración media de los viajes')&\n",
        "                  (df_new6['Trimestre']=='Trimestre 3')&(df_new6[\"Tipo de dato\"]==\"Valor absoluto\")][['Origen','Total']]\n",
        "T3_dura_t = T3_dura['Total'].str.replace('.', '').str.replace(',', '.').astype(float).to_list()\n",
        "T3_dura_t[-2] = (T3_dura_t[-1]+T3_dura_t[-2])/2\n",
        "T3_dura_t.pop()\n",
        "\n",
        "# T4\n",
        "T4_dura = df_new6[(df_new6['Concepto turístico']=='Duración media de los viajes')&\n",
        "                  (df_new6['Trimestre']=='Trimestre 4')&(df_new6[\"Tipo de dato\"]==\"Valor absoluto\")][['Origen','Total']]\n",
        "T4_dura_t = T4_dura['Total'].str.replace('.', '').str.replace(',', '.').astype(float).to_list()\n",
        "T4_dura_t[-2] = (T4_dura_t[-1]+T4_dura_t[-2])/2\n",
        "T4_dura_t.pop()\n"
      ]
    },
    {
      "cell_type": "code",
      "execution_count": null,
      "metadata": {
        "id": "5Oll7ybqdwFs"
      },
      "outputs": [],
      "source": [
        "path = 'spain'\n",
        "title = \"Mapa duración media del viaje en T1\"\n",
        "spain_heat_map(T1_dura_t[1:], path, \"bluyl\",title, plot_type=\"plotly\")\n",
        "\n",
        "title = \"Mapa duración media del viaje en T2\"\n",
        "spain_heat_map(T2_dura_t[1:], path, \"bluyl\",title, plot_type=\"plotly\")\n",
        "\n",
        "title = \"Mapa duración media del viaje en T3\"\n",
        "spain_heat_map(T3_dura_t[1:], path, \"bluyl\",title, plot_type=\"plotly\")\n",
        "\n",
        "title = \"Mapa duración media del viaje en T4\"\n",
        "spain_heat_map(T4_dura_t[1:], path, \"bluyl\",title, plot_type=\"plotly\")"
      ]
    },
    {
      "cell_type": "markdown",
      "metadata": {
        "id": "tisJ8jkPUXTc"
      },
      "source": [
        "En la temporada T1, Ceuta y Melilla tienen la duración media más larga con 5.835 días, seguida por las Islas Baleares con 4.640 días y Canarias con 3.980 días. Murcia presenta la duración media más corta con 2.590 días.\n",
        "\n",
        "Durante la temporada T2, Ceuta y Melilla nuevamente registran la duración más larga con 6.25 días, seguidas por el País Vasco con 4.62 días y Canarias con 4.44 días. La duración más corta se observa en Aragón y Asturias, ambos con 2.92 días.\n",
        "\n",
        "En la temporada T3, Ceuta y Melilla tienen la mayor duración media de los viajes con 8.615 días, seguidas por el País Vasco con 8.540 días y la Comunidad de Madrid con 7.860 días. Las Islas Baleares tienen una duración media de 5.420 días, que es relativamente baja en comparación con otras regiones en esta temporada.\n",
        "\n",
        "En la temporada T4, la duración media más larga se registra en Ceuta y Melilla con 3.845 días, seguidas por las Islas Baleares con 4.250 días y Canarias con 3.920 días. La Rioja tiene la duración media más corta con 2.810 días.\n",
        "\n",
        "Este análisis muestra que la duración media de los viajes es más larga en la temporada T3 para todas las comunidades, coincidiendo con las vacaciones de verano. Ceuta y Melilla destacan por tener las duraciones más largas en varias temporadas, mientras que regiones como Murcia y La Rioja suelen tener duraciones más cortas. Estos patrones reflejan las preferencias de viaje estacionales y regionales, y pueden ser útiles para la planificación de estrategias turísticas que consideren la duración media de las estancias según la comunidad de residencia."
      ]
    },
    {
      "cell_type": "markdown",
      "metadata": {
        "id": "PkTYhvT2pX4n"
      },
      "source": [
        "### Viajes, pernoctaciones, duración media y gasto por destino principal (extranjero y comunidades autónomas)\n",
        "\n",
        "**Columnas**\n",
        "- Destino: CA de destino\n",
        "- Concepto turístico: Viajes, Duración media de los viajes, Pernoctaciones, Gasto total, Gasto medio por persona y Gasto medio diario por persona\n",
        "- Tipo de dato: Valor absoluto, Distribución porcentual y Variación anual\n",
        "- Periodo: Año\n",
        "- Total: Valor del concepto turístico\n",
        "\n"
      ]
    },
    {
      "cell_type": "code",
      "execution_count": null,
      "metadata": {
        "id": "3zivovmreNCt"
      },
      "outputs": [],
      "source": [
        "dataframes['df7']"
      ]
    },
    {
      "cell_type": "markdown",
      "metadata": {
        "id": "OebCm_KuVode"
      },
      "source": [
        "Nos quedamos con el año 2022 y los datos refentes a la Comunidad Valenciana."
      ]
    },
    {
      "cell_type": "code",
      "execution_count": null,
      "metadata": {
        "id": "kqZqgX3weRM-"
      },
      "outputs": [],
      "source": [
        "df_new7 = limpiar_datos(dataframes['df7'], year=2022, destiny='Valenciana')\n",
        "df_new7"
      ]
    },
    {
      "cell_type": "code",
      "execution_count": null,
      "metadata": {
        "id": "EKBzopOtp-YR"
      },
      "outputs": [],
      "source": [
        "d_cv = df_new7[df_new7['Tipo de dato']=='Valor absoluto'][['Concepto turístico','Total']]\n",
        "d_cv"
      ]
    },
    {
      "cell_type": "markdown",
      "metadata": {
        "id": "IBWuAZ1EWE0e"
      },
      "source": [
        "En total, se registraron 17,932,009 viajes a la Comunidad Valenciana, lo que indica un flujo significativo de turistas hacia la región. La duración media de los viajes fue de 4.69 días, lo que sugiere que los visitantes permanecen en la región por un período moderado, disfrutando de sus diversas atracciones y servicios. Se contabilizaron 84,030,696 pernoctaciones, lo que demuestra una alta ocupación de alojamientos turísticos durante el año. Esto es un indicador clave de la actividad turística y su impacto en la industria de la hospitalidad. El gasto total de los turistas ascendió a 4,193,264.76 euros. Esta cifra refleja la contribución económica significativa del turismo a la economía regional. El gasto medio por persona fue de 233.84 euros, lo que proporciona una visión del gasto individual de los turistas durante su estancia. El gasto medio diario por persona fue de 49.9 euros. Este dato es crucial para entender el poder adquisitivo de los turistas y su impacto diario en la economía local.\n",
        "\n",
        "Estos datos subrayan la importancia del turismo para la Comunidad Valenciana, destacando no solo el volumen de turistas y pernoctaciones, sino también el impacto económico considerable que genera esta actividad. La combinación de una duración media de viajes moderada y un gasto diario significativo sugiere que la región es capaz de atraer y mantener a turistas que contribuyen de manera sustancial a su economía. Esto también puede orientar futuras estrategias de marketing y desarrollo turístico para maximizar el potencial de la región."
      ]
    },
    {
      "cell_type": "markdown",
      "metadata": {
        "id": "UxMf4PQdp5H1"
      },
      "source": [
        "### Viajes, pernoctaciones, duración media y gasto por tipo de destino principal\n",
        "\n",
        "**Columnas**\n",
        "- Tipo de destino: Total, Extranjero, España, Dentro de la Comunidad Autónoma,\n",
        " Dentro de la provincia, A otra Comunidad Autónoma\n",
        "- Concepto turístico: Viajes, Duración media de los viajes, Pernoctaciones, Gasto total,\n",
        " Gasto medio por persona, Gasto medio diario por persona\n",
        "- Tipo de dato: Valor absoluto\n",
        "- Periodo: Año\n",
        "- Total: Valor del concepto turístico\n"
      ]
    },
    {
      "cell_type": "code",
      "execution_count": null,
      "metadata": {
        "id": "bKuJHDsDenTL"
      },
      "outputs": [],
      "source": [
        "dataframes['df8']"
      ]
    },
    {
      "cell_type": "markdown",
      "metadata": {
        "id": "rt075YZSXYN1"
      },
      "source": [
        "Elegimos el año 2022."
      ]
    },
    {
      "cell_type": "code",
      "execution_count": null,
      "metadata": {
        "id": "JT0rVkDGeqxG"
      },
      "outputs": [],
      "source": [
        "df_new8 = limpiar_datos(dataframes['df8'], year=2022)\n",
        "df_new8 = df_new8[df_new8['Tipo de dato']=='Valor absoluto']\n",
        "df_new8"
      ]
    },
    {
      "cell_type": "code",
      "execution_count": null,
      "metadata": {
        "id": "5i5kTbRgteey"
      },
      "outputs": [],
      "source": [
        "# Pivotar el DataFrame\n",
        "df_pivot = df_new8.pivot(index='Destino', columns='Concepto turístico', values='Total')\n",
        "df_pivot"
      ]
    },
    {
      "cell_type": "markdown",
      "metadata": {
        "id": "EM0IILjoXeYk"
      },
      "source": [
        "Los viajes al extranjero tienen la mayor duración media (8.53 días) y el gasto medio por persona más alto (920.98 euros). En contraste, los viajes dentro de la provincia tienen la menor duración media (2.93 días) y el gasto medio por persona más bajo (97.59 euros).\n",
        "\n",
        "El total de gasto más alto se registra en viajes dentro de España (35,431,861.07 euros), mientras que los viajes a otra comunidad autónoma y dentro de la comunidad autónoma también tienen altos valores de pernoctaciones y viajes.\n",
        "\n",
        "El gasto medio diario es más alto para los viajes al extranjero (108.01 euros), seguido por los viajes a otra comunidad autónoma (68.69 euros).\n",
        "\n",
        "Los viajes dentro de la provincia son más baratos y cortos, lo que los hace atractivos para escapadas rápidas y económicas. Por el contrario, los viajes al extranjero son más prolongados y costosos. Los viajes dentro de España representan una parte significativa del gasto turístico total, mostrando una fuerte preferencia por el turismo doméstico y la exploración de diferentes comunidades autónomas.\n",
        "\n",
        "Estos datos reflejan las diferentes tendencias y comportamientos de los turistas según el destino, proporcionando información valiosa para la planificación y promoción turística en diversas regiones.\n",
        "\n"
      ]
    },
    {
      "cell_type": "markdown",
      "metadata": {
        "id": "UVSU_nxLaYb0"
      },
      "source": [
        "### Turismo receptor: número de turistas y pernoctaciones por medios de transporte, periodo y turistas/pernoctaciones\n",
        "\n",
        "**Columnas**\n",
        "- Medios de transporte: Aeropuerto, Tren, Puerto, Carretera, Total\n",
        "- Turistas/pernoctaciones: Número de llegadas, Número de pernoctaciones\n",
        "- Periodo: Año\n",
        "- Total: Valor del concepto turístico"
      ]
    },
    {
      "cell_type": "code",
      "execution_count": null,
      "metadata": {
        "id": "aeE7Z9FHae2M"
      },
      "outputs": [],
      "source": [
        "url = \"https://www.ine.es/jaxi/files/_px/csv_bdsc/t35/p011/rev19/serie/02002.csv\"\n",
        "df9 = pd.read_csv(url, sep = \";\")\n",
        "df9"
      ]
    },
    {
      "cell_type": "markdown",
      "metadata": {
        "id": "tOgPz714cM5v"
      },
      "source": [
        "Filtramos por el año 2022."
      ]
    },
    {
      "cell_type": "code",
      "execution_count": null,
      "metadata": {
        "id": "ME58_tL_azN7"
      },
      "outputs": [],
      "source": [
        "# Lo que nos interesa\n",
        "df_new9 = df9[(df9[\"periodo\"]==2022)][[\"Medios de transporte\", \"Turistas/pernoctaciones\", \"Total\"]]\n",
        "\n",
        "print(\"Total: número de viajeros o número total de pernoctaciones\")\n",
        "df_new9"
      ]
    },
    {
      "cell_type": "markdown",
      "metadata": {
        "id": "tJkRByrzck2X"
      },
      "source": [
        "La mayoría de los turistas llegan a España por vía aérea, representando una abrumadora mayoría con 59,307,849 llegadas. Esto destaca la importancia de los aeropuertos como principal punto de entrada para los turistas. Las llegadas por carretera también son significativas, sumando 10,964,073, lo que indica que una parte considerable de turistas, probablemente provenientes de países vecinos, eligen viajar en coche. En comparación, las llegadas por puerto y tren son mucho menores, con 1,152,225 y 235,135 respectivamente, reflejando un uso más limitado de estos medios para el turismo.\n",
        "\n",
        "Las pernoctaciones siguen una tendencia similar a las llegadas. Los turistas que llegan por vía aérea generan la mayor cantidad de pernoctaciones, con 444,576,423 noches. Las pernoctaciones asociadas con llegadas por carretera alcanzan 84,462,626, lo que nuevamente resalta la importancia de los viajes terrestres. Las pernoctaciones por puerto y tren son mucho menores, con 7,255,340 y 1,317,386 respectivamente.\n",
        "\n",
        "Los aeropuertos no solo son el principal punto de entrada para los turistas, sino que también están asociados con la mayor cantidad de pernoctaciones. Esto sugiere que los turistas que llegan por aire tienden a quedarse más tiempo, lo que puede estar relacionado con el tipo de turistas que prefieren viajes internacionales y probablemente tienen una mayor capacidad de gasto.\n",
        "\n",
        "Aunque los viajes por carretera son menos numerosos que los aéreos, siguen siendo una parte importante del turismo en España. Los turistas que llegan en coche también contribuyen significativamente a las pernoctaciones, aunque en menor medida.\n",
        "\n",
        "El uso de puertos y trenes para llegar a España es bastante limitado en comparación con los aviones y coches. Esto puede deberse a varios factores, como la comodidad, la velocidad y la infraestructura disponible.\n",
        "\n",
        "En total, España recibió 71,659,282 turistas en 2022, con una contribución sustancial de 537,611,775 pernoctaciones. Estos datos subrayan la importancia del turismo para la economía española, con una clara preferencia por los viajes aéreos y terrestres."
      ]
    },
    {
      "cell_type": "markdown",
      "metadata": {
        "id": "bjrpTX8lZwyK"
      },
      "source": [
        "## Conclusiones"
      ]
    },
    {
      "cell_type": "markdown",
      "metadata": {
        "id": "4ZyfkhCnZ0QB"
      },
      "source": [
        "En 2022, los datos turísticos de la Comunidad Valenciana revelan diversos perfiles de viajeros y patrones de comportamiento. Los viajes realizados a otras comunidades autónomas tienen una duración media de 4.76 días y un gasto medio diario de 68.69 euros por persona, lo que se traduce en un gasto total de 327.07 euros por persona. Este perfil de viajeros tiende a realizar viajes moderadamente largos y a gastar más en promedio, prefiriendo destinos fuera de su comunidad pero dentro de España.\n",
        "\n",
        "Por otro lado, los viajes dentro de la comunidad autónoma son más cortos, con una duración media de 3.1 días y un gasto medio diario de 42.83 euros, resultando en un gasto total de 132.95 euros por persona. Estos viajeros suelen realizar escapadas breves y económicas dentro de su propia comunidad. Los viajes dentro de la provincia tienen una duración aún menor, de 2.93 días, y un gasto medio diario de 33.33 euros, reflejando una preferencia por destinos muy cercanos y un gasto más conservador.\n",
        "\n",
        "Los viajeros internacionales presentan un perfil distinto, con estancias más largas, de 8.53 días en promedio, y un gasto medio diario de 108.01 euros. Esto se traduce en un gasto total por persona de 920.98 euros. Estos viajeros tienen una mayor capacidad adquisitiva y prefieren estancias prolongadas.\n",
        "\n",
        "En general, la duración media de los viajes dentro de España es de 3.92 días, con un gasto medio diario de 58.25 euros, mientras que el gasto total por persona asciende a 228.22 euros. Los datos también muestran que la temporada de verano (T3) es la más activa, con la mayor duración de viajes y gasto, coincidiendo con las vacaciones estivales.\n",
        "\n",
        "El análisis de los datos subraya la importancia del turismo para la Comunidad Valenciana, tanto a nivel nacional como internacional. Los viajeros internacionales, aunque menos numerosos, aportan un gasto significativo debido a sus estancias más largas y mayor gasto diario. Los viajes dentro de la comunidad y la provincia son más frecuentes pero con menor impacto económico individualmente.\n",
        "\n",
        "Para maximizar el potencial turístico de la región, se pueden desarrollar estrategias de marketing que atraigan a los viajeros de mayor gasto durante las temporadas bajas y crear ofertas especiales para los viajeros locales que prefieren escapadas rápidas y económicas. Además, mejorar la infraestructura turística para acomodar a los viajeros internacionales y promover el turismo dentro de la comunidad autónoma puede ayudar a equilibrar la afluencia turística a lo largo del año. Estas estrategias pueden contribuir a un desarrollo turístico más sostenible y beneficioso para la Comunidad Valenciana."
      ]
    }
  ],
  "metadata": {
    "colab": {
      "provenance": []
    },
    "kernelspec": {
      "display_name": "Python 3",
      "name": "python3"
    },
    "language_info": {
      "name": "python"
    }
  },
  "nbformat": 4,
  "nbformat_minor": 0
}